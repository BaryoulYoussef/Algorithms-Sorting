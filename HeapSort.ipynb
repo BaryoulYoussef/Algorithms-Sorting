{
 "cells": [
  {
   "cell_type": "markdown",
   "id": "8a0e2a0c",
   "metadata": {},
   "source": [
    "# HeapSort Implementation\n",
    "\n",
    "## Binary Heap-Based Sorting Algorithm\n",
    "\n",
    "This implementation uses the heap sort algorithm, which leverages the binary heap data structure. The algorithm works in two phases: first, it builds a max heap from the unsorted array by calling `siftDown` on all parent nodes from bottom to top starting at index `(len(lst)-2)//2`. Second, it repeatedly extracts the maximum element (root) by swapping it with the last element of the unsorted portion, then restores the heap property. The `siftDown` function maintains the max heap property by comparing a parent node with its children and swapping with the larger child until the node is in its correct position.\n",
    "\n",
    "**Time Complexity:** O(n log n) in all cases (best, average, and worst)  \n",
    "**Space Complexity:** O(1) - sorts in-place  \n",
    "**Technical Note:** Array indices represent a binary tree where for node at index `i`: left child = `2*i+1`, right child = `2*i+2`. The algorithm handles three cases in `siftDown`: both children exist, only left child exists, or no children exist (leaf node).\n",
    "\n",
    "**Key Advantage:** Guaranteed O(n log n) with constant space  \n",
    "**Key Disadvantage:** Not stable and slower than QuickSort in practice"
   ]
  },
  {
   "cell_type": "code",
   "execution_count": 6,
   "id": "c922d7f3",
   "metadata": {},
   "outputs": [
    {
     "name": "stdout",
     "output_type": "stream",
     "text": [
      "[0, 1, 1, 2, 2, 3, 4, 4, 6, 6, 6, 7, 7, 8, 8, 9]\n"
     ]
    }
   ],
   "source": [
    "def swap(lst , i , j):\n",
    "    lst[i],lst[j] = lst[j],lst[i]\n",
    "\n",
    "def siftDown(lst,i,upper):\n",
    "    while True :\n",
    "        l,r = i*2+1 , i*2+2\n",
    "        if max(l,r)<upper :\n",
    "            if max(lst[l],lst[r]) < lst[i] : break\n",
    "            elif lst[r] > lst[l]:\n",
    "                swap(lst,r,i)\n",
    "                i=r\n",
    "            else :\n",
    "                swap(lst,l,i)\n",
    "                i=l\n",
    "\n",
    "        elif l<upper :\n",
    "            if lst[l]>lst[i] :\n",
    "                swap(lst,i,l)\n",
    "                i=l\n",
    "            else :\n",
    "                break\n",
    "        \n",
    "\n",
    "        else : break\n",
    "\n",
    "\n",
    "def heapSort(lst):\n",
    "    for i in range((len(lst)-2)//2,-1,-1) :\n",
    "        siftDown(lst,i,len(lst))\n",
    "\n",
    "    for j in range(len(lst)-1,0,-1):\n",
    "        swap(lst,0,j)\n",
    "        siftDown(lst,0,j)\n",
    "        \n",
    "\n",
    "lst=[0,3,6,1,2,8,6,4,8,1,6,4,9,2,7,7]\n",
    "heapSort(lst)\n",
    "print(lst)\n"
   ]
  }
 ],
 "metadata": {
  "kernelspec": {
   "display_name": "base",
   "language": "python",
   "name": "python3"
  },
  "language_info": {
   "codemirror_mode": {
    "name": "ipython",
    "version": 3
   },
   "file_extension": ".py",
   "mimetype": "text/x-python",
   "name": "python",
   "nbconvert_exporter": "python",
   "pygments_lexer": "ipython3",
   "version": "3.12.7"
  }
 },
 "nbformat": 4,
 "nbformat_minor": 5
}
