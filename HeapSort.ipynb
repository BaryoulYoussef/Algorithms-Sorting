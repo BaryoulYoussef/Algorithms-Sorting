{
 "cells": [
  {
   "cell_type": "code",
   "execution_count": null,
   "id": "c922d7f3",
   "metadata": {},
   "outputs": [
    {
     "ename": "KeyboardInterrupt",
     "evalue": "",
     "output_type": "error",
     "traceback": [
      "\u001b[1;31m---------------------------------------------------------------------------\u001b[0m",
      "\u001b[1;31mKeyboardInterrupt\u001b[0m                         Traceback (most recent call last)",
      "Cell \u001b[1;32mIn[2], line 38\u001b[0m\n\u001b[0;32m     34\u001b[0m         siftDown(lst,\u001b[38;5;241m0\u001b[39m,j)\n\u001b[0;32m     37\u001b[0m lst\u001b[38;5;241m=\u001b[39m[\u001b[38;5;241m0\u001b[39m,\u001b[38;5;241m3\u001b[39m,\u001b[38;5;241m6\u001b[39m,\u001b[38;5;241m1\u001b[39m,\u001b[38;5;241m2\u001b[39m,\u001b[38;5;241m8\u001b[39m,\u001b[38;5;241m6\u001b[39m,\u001b[38;5;241m4\u001b[39m,\u001b[38;5;241m8\u001b[39m,\u001b[38;5;241m1\u001b[39m,\u001b[38;5;241m6\u001b[39m,\u001b[38;5;241m4\u001b[39m,\u001b[38;5;241m9\u001b[39m,\u001b[38;5;241m2\u001b[39m,\u001b[38;5;241m7\u001b[39m,\u001b[38;5;241m7\u001b[39m]\n\u001b[1;32m---> 38\u001b[0m heapSort(lst)\n\u001b[0;32m     39\u001b[0m \u001b[38;5;28mprint\u001b[39m(lst)\n",
      "Cell \u001b[1;32mIn[2], line 34\u001b[0m, in \u001b[0;36mheapSort\u001b[1;34m(lst)\u001b[0m\n\u001b[0;32m     32\u001b[0m \u001b[38;5;28;01mfor\u001b[39;00m j \u001b[38;5;129;01min\u001b[39;00m \u001b[38;5;28mrange\u001b[39m(\u001b[38;5;28mlen\u001b[39m(lst)\u001b[38;5;241m-\u001b[39m\u001b[38;5;241m1\u001b[39m,\u001b[38;5;241m0\u001b[39m,\u001b[38;5;241m-\u001b[39m\u001b[38;5;241m1\u001b[39m):\n\u001b[0;32m     33\u001b[0m     swap(lst,\u001b[38;5;241m0\u001b[39m,j)\n\u001b[1;32m---> 34\u001b[0m     siftDown(lst,\u001b[38;5;241m0\u001b[39m,j)\n",
      "Cell \u001b[1;32mIn[2], line 7\u001b[0m, in \u001b[0;36msiftDown\u001b[1;34m(lst, i, upper)\u001b[0m\n\u001b[0;32m      5\u001b[0m \u001b[38;5;28;01mwhile\u001b[39;00m \u001b[38;5;28;01mTrue\u001b[39;00m :\n\u001b[0;32m      6\u001b[0m     l,r \u001b[38;5;241m=\u001b[39m i\u001b[38;5;241m*\u001b[39m\u001b[38;5;241m2\u001b[39m\u001b[38;5;241m+\u001b[39m\u001b[38;5;241m1\u001b[39m , i\u001b[38;5;241m*\u001b[39m\u001b[38;5;241m2\u001b[39m\u001b[38;5;241m+\u001b[39m\u001b[38;5;241m2\u001b[39m\n\u001b[1;32m----> 7\u001b[0m     \u001b[38;5;28;01mif\u001b[39;00m \u001b[38;5;28mmax\u001b[39m(l,r)\u001b[38;5;241m<\u001b[39mupper :\n\u001b[0;32m      8\u001b[0m         \u001b[38;5;28;01mif\u001b[39;00m \u001b[38;5;28mmax\u001b[39m(lst[l],lst[r]) \u001b[38;5;241m<\u001b[39m lst[i] : \u001b[38;5;28;01mbreak\u001b[39;00m\n\u001b[0;32m      9\u001b[0m         \u001b[38;5;28;01melif\u001b[39;00m lst[r] \u001b[38;5;241m>\u001b[39m lst[l]:\n",
      "\u001b[1;31mKeyboardInterrupt\u001b[0m: "
     ]
    }
   ],
   "source": [
    "def swap(lst , i , j):\n",
    "    lst[i],lst[j] = lst[j],lst[i]\n",
    "\n",
    "def siftDown(lst,i,upper):\n",
    "    while True :\n",
    "        l,r = i*2+1 , i*2+2\n",
    "        if max(l,r)<upper :\n",
    "            if max(lst[l],lst[r]) < lst[i] : break\n",
    "            elif lst[r] > lst[l]:\n",
    "                swap(lst,r,i)\n",
    "                i=r\n",
    "            else :\n",
    "                swap(lst,l,i)\n",
    "                i=l\n",
    "\n",
    "        elif l<upper :\n",
    "            if lst[l]>lst[i] :\n",
    "                swap(lst,i,l)\n",
    "                i=l\n",
    "        else: \n",
    "            break\n",
    "\n",
    "        else : break\n",
    "\n",
    "\n",
    "def heapSort(lst):\n",
    "    for i in range((len(lst)-2)//2,-1,-1) :\n",
    "        siftDown(lst,i,len(lst))\n",
    "\n",
    "    for j in range(len(lst)-1,0,-1):\n",
    "        swap(lst,0,j)\n",
    "        siftDown(lst,0,j)\n",
    "        \n",
    "\n",
    "lst=[0,3,6,1,2,8,6,4,8,1,6,4,9,2,7,7]\n",
    "heapSort(lst)\n",
    "print(lst)\n"
   ]
  }
 ],
 "metadata": {
  "kernelspec": {
   "display_name": "base",
   "language": "python",
   "name": "python3"
  },
  "language_info": {
   "codemirror_mode": {
    "name": "ipython",
    "version": 3
   },
   "file_extension": ".py",
   "mimetype": "text/x-python",
   "name": "python",
   "nbconvert_exporter": "python",
   "pygments_lexer": "ipython3",
   "version": "3.12.7"
  }
 },
 "nbformat": 4,
 "nbformat_minor": 5
}
