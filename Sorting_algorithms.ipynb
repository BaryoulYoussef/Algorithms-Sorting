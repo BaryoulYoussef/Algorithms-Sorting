{
 "cells": [
  {
   "cell_type": "code",
   "execution_count": null,
   "id": "db7de3f1",
   "metadata": {},
   "outputs": [
    {
     "name": "stdout",
     "output_type": "stream",
     "text": [
      "it works\n"
     ]
    }
   ],
   "source": [
    "print('it works')"
   ]
  },
  {
   "cell_type": "code",
   "execution_count": 15,
   "id": "2c326d97",
   "metadata": {},
   "outputs": [
    {
     "name": "stdout",
     "output_type": "stream",
     "text": [
      "[1, 6, 3, 9, 5, 7, 1, 8, 9]\n",
      "[1, 1, 3, 5, 6, 7, 8, 9, 9]\n"
     ]
    }
   ],
   "source": [
    "def QuickSort(arr) : \n",
    "    if len(arr)<=1 :\n",
    "        return arr\n",
    "    else :\n",
    "        pivot = arr[len(arr)//2]\n",
    "        middle = [x for x in arr if x==pivot]\n",
    "        left = [x for x in arr if x < pivot ]\n",
    "        right = [x for x in arr if x> pivot]\n",
    "\n",
    "        return QuickSort(left)+ middle + QuickSort(right)\n",
    "\n",
    "data = [1,6,3,9,5,7,1,8,9]\n",
    "print(data)\n",
    "print(QuickSort(data))"
   ]
  },
  {
   "cell_type": "code",
   "execution_count": null,
   "id": "f18a9fee",
   "metadata": {},
   "outputs": [],
   "source": [
    "def partition(arr, low, high):\n",
    "    pivot = arr[high]\n",
    "    i = low - 1         \n",
    "\n",
    "    for j in range(low, high):\n",
    "        if arr[j] <= pivot:\n",
    "            i += 1\n",
    "            arr[i], arr[j] = arr[j], arr[i]  \n",
    "\n",
    "    arr[i+1], arr[high] = arr[high], arr[i+1]  # place pivot correctly\n",
    "    return i+1\n",
    "\n",
    "\n",
    "def quicksort(arr, low, high):\n",
    "    if low < high:\n",
    "        pi = partition(arr, low, high)   # pi = pivot index\n",
    "        quicksort(arr, low, pi-1)        # sort left side\n",
    "        quicksort(arr, pi+1, high)       # sort right side\n",
    "\n",
    "\n",
    "\n",
    "data = [10, 7, 8, 9, 1, 5]\n",
    "print(\"Unsorted:\", data)\n",
    "quicksort(data, 0, len(data)-1)\n",
    "print(\"Sorted:\", data)\n"
   ]
  }
 ],
 "metadata": {
  "kernelspec": {
   "display_name": "base",
   "language": "python",
   "name": "python3"
  },
  "language_info": {
   "codemirror_mode": {
    "name": "ipython",
    "version": 3
   },
   "file_extension": ".py",
   "mimetype": "text/x-python",
   "name": "python",
   "nbconvert_exporter": "python",
   "pygments_lexer": "ipython3",
   "version": "3.12.7"
  }
 },
 "nbformat": 4,
 "nbformat_minor": 5
}
