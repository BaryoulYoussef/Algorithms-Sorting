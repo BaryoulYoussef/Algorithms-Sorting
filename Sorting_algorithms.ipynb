{
 "cells": [
  {
   "cell_type": "markdown",
   "id": "a055d81a",
   "metadata": {},
   "source": [
    "QuickSort : \n"
   ]
  },
  {
   "cell_type": "code",
   "execution_count": 15,
   "id": "2c326d97",
   "metadata": {},
   "outputs": [
    {
     "name": "stdout",
     "output_type": "stream",
     "text": [
      "[1, 6, 3, 9, 5, 7, 1, 8, 9]\n",
      "[1, 1, 3, 5, 6, 7, 8, 9, 9]\n"
     ]
    }
   ],
   "source": [
    "def QuickSort(arr) : \n",
    "    if len(arr)<=1 :\n",
    "        return arr\n",
    "    else :\n",
    "        pivot = arr[len(arr)//2]\n",
    "        middle = [x for x in arr if x==pivot]\n",
    "        left = [x for x in arr if x < pivot ]\n",
    "        right = [x for x in arr if x> pivot]\n",
    "\n",
    "        return QuickSort(left)+ middle + QuickSort(right)\n",
    "\n",
    "data = [1,6,3,9,5,7,1,8,9]\n",
    "print(data)\n",
    "print(QuickSort(data))"
   ]
  },
  {
   "cell_type": "code",
   "execution_count": null,
   "id": "f18a9fee",
   "metadata": {},
   "outputs": [],
   "source": [
    "def partition(arr, low, high):\n",
    "    pivot = arr[high]\n",
    "    i = low - 1         \n",
    "\n",
    "    for j in range(low, high):\n",
    "        if arr[j] <= pivot:\n",
    "            i += 1\n",
    "            arr[i], arr[j] = arr[j], arr[i]  \n",
    "\n",
    "    arr[i+1], arr[high] = arr[high], arr[i+1]  # place pivot correctly\n",
    "    return i+1\n",
    "\n",
    "\n",
    "def quicksort(arr, low, high):\n",
    "    if low < high:\n",
    "        pi = partition(arr, low, high)   # pi = pivot index\n",
    "        quicksort(arr, low, pi-1)        # sort left side\n",
    "        quicksort(arr, pi+1, high)       # sort right side\n",
    "\n",
    "\n",
    "\n",
    "data = [10, 7, 8, 9, 1, 5]\n",
    "print(\"Unsorted:\", data)\n",
    "quicksort(data, 0, len(data)-1)\n",
    "print(\"Sorted:\", data)\n"
   ]
  },
  {
   "cell_type": "code",
   "execution_count": 2,
   "id": "59b5e2f1",
   "metadata": {},
   "outputs": [
    {
     "name": "stdout",
     "output_type": "stream",
     "text": [
      "[10, 7, 8, 9, 1, 5]\n"
     ]
    },
    {
     "ename": "IndexError",
     "evalue": "list index out of range",
     "output_type": "error",
     "traceback": [
      "\u001b[1;31m---------------------------------------------------------------------------\u001b[0m",
      "\u001b[1;31mIndexError\u001b[0m                                Traceback (most recent call last)",
      "Cell \u001b[1;32mIn[2], line 24\u001b[0m\n\u001b[0;32m     22\u001b[0m data \u001b[38;5;241m=\u001b[39m [\u001b[38;5;241m10\u001b[39m, \u001b[38;5;241m7\u001b[39m, \u001b[38;5;241m8\u001b[39m, \u001b[38;5;241m9\u001b[39m, \u001b[38;5;241m1\u001b[39m, \u001b[38;5;241m5\u001b[39m]\n\u001b[0;32m     23\u001b[0m \u001b[38;5;28mprint\u001b[39m(data)\n\u001b[1;32m---> 24\u001b[0m QuickSort(data,\u001b[38;5;241m0\u001b[39m,\u001b[38;5;28mlen\u001b[39m(data)\u001b[38;5;241m-\u001b[39m\u001b[38;5;241m1\u001b[39m)\n\u001b[0;32m     25\u001b[0m \u001b[38;5;28mprint\u001b[39m(data)\n",
      "Cell \u001b[1;32mIn[2], line 5\u001b[0m, in \u001b[0;36mQuickSort\u001b[1;34m(data, low, high)\u001b[0m\n\u001b[0;32m      3\u001b[0m p\u001b[38;5;241m=\u001b[39mhoare(data , \u001b[38;5;241m0\u001b[39m,low)\n\u001b[0;32m      4\u001b[0m QuickSort(data,\u001b[38;5;241m0\u001b[39m,p)\n\u001b[1;32m----> 5\u001b[0m QuickSort(data,p\u001b[38;5;241m+\u001b[39m\u001b[38;5;241m1\u001b[39m,high)\n",
      "Cell \u001b[1;32mIn[2], line 5\u001b[0m, in \u001b[0;36mQuickSort\u001b[1;34m(data, low, high)\u001b[0m\n\u001b[0;32m      3\u001b[0m p\u001b[38;5;241m=\u001b[39mhoare(data , \u001b[38;5;241m0\u001b[39m,low)\n\u001b[0;32m      4\u001b[0m QuickSort(data,\u001b[38;5;241m0\u001b[39m,p)\n\u001b[1;32m----> 5\u001b[0m QuickSort(data,p\u001b[38;5;241m+\u001b[39m\u001b[38;5;241m1\u001b[39m,high)\n",
      "    \u001b[1;31m[... skipping similar frames: QuickSort at line 5 (2 times)]\u001b[0m\n",
      "Cell \u001b[1;32mIn[2], line 5\u001b[0m, in \u001b[0;36mQuickSort\u001b[1;34m(data, low, high)\u001b[0m\n\u001b[0;32m      3\u001b[0m p\u001b[38;5;241m=\u001b[39mhoare(data , \u001b[38;5;241m0\u001b[39m,low)\n\u001b[0;32m      4\u001b[0m QuickSort(data,\u001b[38;5;241m0\u001b[39m,p)\n\u001b[1;32m----> 5\u001b[0m QuickSort(data,p\u001b[38;5;241m+\u001b[39m\u001b[38;5;241m1\u001b[39m,high)\n",
      "Cell \u001b[1;32mIn[2], line 3\u001b[0m, in \u001b[0;36mQuickSort\u001b[1;34m(data, low, high)\u001b[0m\n\u001b[0;32m      1\u001b[0m \u001b[38;5;28;01mdef\u001b[39;00m \u001b[38;5;21mQuickSort\u001b[39m(data , low , high) :\n\u001b[0;32m      2\u001b[0m     \u001b[38;5;28;01mif\u001b[39;00m low\u001b[38;5;241m<\u001b[39mhigh :\n\u001b[1;32m----> 3\u001b[0m         p\u001b[38;5;241m=\u001b[39mhoare(data , \u001b[38;5;241m0\u001b[39m,low)\n\u001b[0;32m      4\u001b[0m         QuickSort(data,\u001b[38;5;241m0\u001b[39m,p)\n\u001b[0;32m      5\u001b[0m         QuickSort(data,p\u001b[38;5;241m+\u001b[39m\u001b[38;5;241m1\u001b[39m,high)\n",
      "Cell \u001b[1;32mIn[2], line 16\u001b[0m, in \u001b[0;36mhoare\u001b[1;34m(data, low, high)\u001b[0m\n\u001b[0;32m     14\u001b[0m     i\u001b[38;5;241m=\u001b[39mi\u001b[38;5;241m+\u001b[39m\u001b[38;5;241m1\u001b[39m\n\u001b[0;32m     15\u001b[0m j\u001b[38;5;241m=\u001b[39mj\u001b[38;5;241m-\u001b[39m\u001b[38;5;241m1\u001b[39m\n\u001b[1;32m---> 16\u001b[0m \u001b[38;5;28;01mwhile\u001b[39;00m data[j]\u001b[38;5;241m>\u001b[39mpivot : \n\u001b[0;32m     17\u001b[0m     j\u001b[38;5;241m=\u001b[39mj\u001b[38;5;241m-\u001b[39m\u001b[38;5;241m1\u001b[39m\n\u001b[0;32m     18\u001b[0m \u001b[38;5;28;01mif\u001b[39;00m j\u001b[38;5;241m<\u001b[39m\u001b[38;5;241m=\u001b[39mi :\n",
      "\u001b[1;31mIndexError\u001b[0m: list index out of range"
     ]
    }
   ],
   "source": [
    "def QuickSort(data , low , high) :\n",
    "    if low<high :\n",
    "        p=hoare(data , 0,low)\n",
    "        QuickSort(data,0,p)\n",
    "        QuickSort(data,p+1,high)\n",
    "\n",
    "def hoare(data , low , high) :\n",
    "    pivot = data[low]\n",
    "    i=low-1\n",
    "    j=high-1\n",
    "    while True :\n",
    "        i=i+1\n",
    "        while data[i]<pivot :\n",
    "            i=i+1\n",
    "        j=j-1\n",
    "        while data[j]>pivot : \n",
    "            j=j-1\n",
    "        if j<=i :\n",
    "            return j \n",
    "        data[i],data[j] = data[j],data[i]\n",
    "\n",
    "data = [10, 7, 8, 9, 1, 5]\n",
    "print(data)\n",
    "QuickSort(data,0,len(data)-1)\n",
    "print(data)\n",
    "\n"
   ]
  }
 ],
 "metadata": {
  "kernelspec": {
   "display_name": "base",
   "language": "python",
   "name": "python3"
  },
  "language_info": {
   "codemirror_mode": {
    "name": "ipython",
    "version": 3
   },
   "file_extension": ".py",
   "mimetype": "text/x-python",
   "name": "python",
   "nbconvert_exporter": "python",
   "pygments_lexer": "ipython3",
   "version": "3.12.7"
  }
 },
 "nbformat": 4,
 "nbformat_minor": 5
}
