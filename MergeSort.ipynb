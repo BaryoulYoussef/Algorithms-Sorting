{
 "cells": [
  {
   "cell_type": "markdown",
   "id": "bbf5268a",
   "metadata": {},
   "source": [
    "# MergeSort Implementation\n",
    "\n",
    "## Divide and Conquer Sorting Algorithm\n",
    "\n",
    "This implementation uses the merge sort algorithm, which follows a divide-and-conquer approach. The array is recursively divided into two halves until each subarray contains a single element. Then, the subarrays are merged back together in sorted order by comparing elements from the left and right subarrays. The merging process uses three pointers (i, j, k) to track positions in the left subarray, right subarray, and the original array respectively. After the main comparison loop, two additional loops handle any remaining elements from either subarray.\n",
    "\n",
    "**Time Complexity:** O(n log n) in all cases (best, average, and worst)  \n",
    "**Space Complexity:** O(n) for creating left and right subarrays  \n",
    "**Technical Note:** Unlike QuickSort, MergeSort guarantees O(n log n) performance regardless of input order, making it stable and predictable. The algorithm is also a stable sort, meaning equal elements maintain their relative order. The base case occurs when `len(data) > 1` is false (i.e., when the array has 1 or 0 elements).\n",
    "\n",
    "**Key Advantage:** Consistent O(n log n) performance  \n",
    "**Key Disadvantage:** Requires O(n) extra space"
   ]
  },
  {
   "cell_type": "code",
   "execution_count": 6,
   "id": "01f1fe36",
   "metadata": {},
   "outputs": [
    {
     "name": "stdout",
     "output_type": "stream",
     "text": [
      "[10, 7, 8, 8, 9, 1, 5]\n",
      "[1, 5, 7, 8, 8, 9, 10]\n"
     ]
    }
   ],
   "source": [
    "def MergeSort(data):\n",
    "    if len(data)>1 :\n",
    "        middle = len(data)//2\n",
    "        left = data[:middle]\n",
    "        right=data[middle:]\n",
    "\n",
    "        MergeSort(right)\n",
    "        MergeSort(left )\n",
    "        \n",
    "\n",
    "        i=j=k=0\n",
    "\n",
    "        while i< len(left) and j <len(right) :\n",
    "            if left[i]<right[j] :\n",
    "                data[k]=left[i]\n",
    "                i=i+1\n",
    "                k=k+1\n",
    "            else :\n",
    "                data[k]=right[j]\n",
    "                j=j+1\n",
    "                k=k+1\n",
    "        \n",
    "        while i< len(left) :\n",
    "            data[k] = left[i]\n",
    "            k=k+1\n",
    "            i=i+1\n",
    "        \n",
    "        while j< len(right) :\n",
    "            data[k] = right[j]\n",
    "            k=k+1\n",
    "            j=j+1\n",
    "\n",
    "        \n",
    "                \n",
    "         \n",
    "        \n",
    "\n",
    "data = [10, 7, 8,8, 9, 1, 5]\n",
    "print(data)\n",
    "MergeSort(data)\n",
    "print(data)\n"
   ]
  }
 ],
 "metadata": {
  "kernelspec": {
   "display_name": "base",
   "language": "python",
   "name": "python3"
  },
  "language_info": {
   "codemirror_mode": {
    "name": "ipython",
    "version": 3
   },
   "file_extension": ".py",
   "mimetype": "text/x-python",
   "name": "python",
   "nbconvert_exporter": "python",
   "pygments_lexer": "ipython3",
   "version": "3.12.7"
  }
 },
 "nbformat": 4,
 "nbformat_minor": 5
}
