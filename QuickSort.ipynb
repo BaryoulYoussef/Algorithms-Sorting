{
 "cells": [
  {
   "cell_type": "markdown",
   "id": "a055d81a",
   "metadata": {},
   "source": [
    "# QuickSort Implementations"
   ]
  },
  {
   "cell_type": "markdown",
   "id": "ca0c9c49",
   "metadata": {},
   "source": [
    "## Version 1: QuickSort with Hoare Partition Scheme\n",
    "\n",
    "This implementation uses Hoare's original partitioning scheme with the first element as pivot. Two pointers (i and j) move toward each other from opposite ends, swapping elements on the wrong side of the pivot until they cross. The partition index j is returned, though the pivot doesn't necessarily end up there. This method performs about three times fewer swaps than Lomuto's scheme. \n",
    "\n",
    "**Time Complexity:** O(n log n) average, O(n²) worst case  \n",
    "**Space Complexity:** O(log n) recursion stack  \n",
    "**Technical Note:** i and j are initialized as low-1 and high+1 because pointers increment/decrement before checking values."
   ]
  },
  {
   "cell_type": "code",
   "execution_count": null,
   "id": "2c326d97",
   "metadata": {},
   "outputs": [
    {
     "name": "stdout",
     "output_type": "stream",
     "text": [
      "[1, 6, 3, 9, 5, 7, 1, 8, 9]\n",
      "[1, 1, 3, 5, 6, 7, 8, 9, 9]\n"
     ]
    }
   ],
   "source": [
    "def QuickSort(data , low , high) :\n",
    "    if low<high :\n",
    "        p=hoare(data , low,high)\n",
    "        QuickSort(data,low,p)\n",
    "        QuickSort(data,p+1,high)\n",
    "\n",
    "def hoare(data , low , high) :\n",
    "    pivot = data[low]\n",
    "    i=low-1\n",
    "    j=high+1\n",
    "    while True :\n",
    "        i=i+1\n",
    "        while data[i]<pivot :\n",
    "            i=i+1\n",
    "        j=j-1\n",
    "        while data[j]>pivot : \n",
    "            j=j-1\n",
    "        if i>=j:\n",
    "            return j \n",
    "        data[i],data[j] = data[j],data[i]\n",
    "\n",
    "data = [10, 7, 8, 9, 1, 5]\n",
    "print(data)\n",
    "QuickSort(data,0,len(data)-1)\n",
    "print(data)\n",
    "\n",
    "\n",
    "\n",
    "\n"
   ]
  },
  {
   "cell_type": "markdown",
   "id": "5f21baf4",
   "metadata": {},
   "source": [
    "## Version 2: QuickSort with Lomuto Partition Scheme\n",
    "\n",
    "This implementation uses Lomuto's partitioning with the last element as pivot. A single pointer i tracks the boundary between smaller and larger elements. When a value ≤ pivot is found, i increments and swaps occur. After iteration, the pivot is placed at its correct sorted position (i+1). This is easier to understand but performs more swaps than Hoare's method.\n",
    "\n",
    "**Time Complexity:** O(n log n) average, O(n²) worst case  \n",
    "**Space Complexity:** O(log n) recursion stack  \n",
    "**Technical Note:** The `<=` condition handles duplicates correctly, and recursive calls exclude the pivot index since it's already correctly positioned."
   ]
  },
  {
   "cell_type": "code",
   "execution_count": 6,
   "id": "f18a9fee",
   "metadata": {},
   "outputs": [
    {
     "name": "stdout",
     "output_type": "stream",
     "text": [
      "Unsorted: [10, 7, 8, 9, 1, 5]\n",
      "Sorted: [1, 5, 7, 8, 9, 10]\n"
     ]
    }
   ],
   "source": [
    "def partition(arr, low, high):\n",
    "    pivot = arr[high]\n",
    "    i = low - 1         \n",
    "\n",
    "    for j in range(low, high):\n",
    "        if arr[j] <= pivot:\n",
    "            i += 1\n",
    "            arr[i], arr[j] = arr[j], arr[i]  \n",
    "\n",
    "    arr[i+1], arr[high] = arr[high], arr[i+1]  # place pivot correctly\n",
    "    return i+1\n",
    "\n",
    "\n",
    "def quicksort(arr, low, high):\n",
    "    if low < high:\n",
    "        pi = partition(arr, low, high)   # pi = pivot index\n",
    "        quicksort(arr, low, pi-1)        # sort left side\n",
    "        quicksort(arr, pi+1, high)       # sort right side\n",
    "\n",
    "\n",
    "\n",
    "data = [10, 7, 8, 9, 1, 5]\n",
    "print(\"Unsorted:\", data)\n",
    "quicksort(data, 0, len(data)-1)\n",
    "print(\"Sorted:\", data)\n"
   ]
  },
  {
   "cell_type": "markdown",
   "id": "0acbeacc",
   "metadata": {},
   "source": [
    "## Version 3: QuickSort with Functional/Non-In-Place Approach\n",
    "\n",
    "This implementation uses a functional style with list comprehensions, creating new arrays instead of in-place sorting. The middle element is chosen as pivot, and the array is partitioned into three lists: left (< pivot), middle (= pivot), and right (> pivot). Recursively sorted sublists are concatenated with the middle list. More readable and Pythonic, but less memory-efficient.\n",
    "\n",
    "**Time Complexity:** O(n log n) average, O(n²) worst case  \n",
    "**Space Complexity:** O(n) for new arrays  \n",
    "**Technical Note:** Separating equal elements into `middle` handles duplicates efficiently and the middle pivot choice provides better balance than edge elements."
   ]
  },
  {
   "cell_type": "code",
   "execution_count": null,
   "id": "59b5e2f1",
   "metadata": {},
   "outputs": [
    {
     "name": "stdout",
     "output_type": "stream",
     "text": [
      "[10, 7, 8, 9, 1, 5]\n",
      "[1, 5, 7, 8, 9, 10]\n"
     ]
    }
   ],
   "source": [
    "def QuickSort(arr) : \n",
    "    if len(arr)<=1 :\n",
    "        return arr\n",
    "    else :\n",
    "        pivot = arr[len(arr)//2]\n",
    "        middle = [x for x in arr if x==pivot]\n",
    "        left = [x for x in arr if x < pivot ]\n",
    "        right = [x for x in arr if x> pivot]\n",
    "\n",
    "        return QuickSort(left)+ middle + QuickSort(right)\n",
    "\n",
    "data = [1,6,3,9,5,7,1,8,9]\n",
    "print(data)\n",
    "print(QuickSort(data))"
   ]
  }
 ],
 "metadata": {
  "kernelspec": {
   "display_name": "base",
   "language": "python",
   "name": "python3"
  },
  "language_info": {
   "codemirror_mode": {
    "name": "ipython",
    "version": 3
   },
   "file_extension": ".py",
   "mimetype": "text/x-python",
   "name": "python",
   "nbconvert_exporter": "python",
   "pygments_lexer": "ipython3",
   "version": "3.12.7"
  }
 },
 "nbformat": 4,
 "nbformat_minor": 5
}
